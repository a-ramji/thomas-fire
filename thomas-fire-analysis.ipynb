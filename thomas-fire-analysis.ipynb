{
 "cells": [
  {
   "cell_type": "markdown",
   "id": "f98d111a-7c54-4a74-ac52-ae867744b411",
   "metadata": {},
   "source": [
    "# Thomas Fire Analysis\n",
    "#### Author: Anna Ramji ([@a-ramji](https://github.com/a-ramji), a-ramji@github.io)\n",
    "- This notebook is part of my Thomas Fire analysis [github repository](https://github.com/a-ramji/thomas-fire)\n",
    "(https://github.com/a-ramji/thomas-fire)\n"
   ]
  },
  {
   "cell_type": "markdown",
   "id": "bfceba0a-49cf-40b6-a9b9-20eb189feec5",
   "metadata": {},
   "source": [
    "# About\n",
    "\n",
    "### Purpose\n",
    "\n",
    "\n",
    "There are two primary goals of this data analysis and visualization. \n",
    "1. Use county-level AQI data to show the **air quality in Santa Barbara County from 2017-2018, highlighting the Thomas Fire**, which occurred in December, 2017.\n",
    "2. Use Landsat and a shapefile of fire perimeters in California to **create a false color image displaying the fire scar from the 2017 Thomas Fire**\n",
    "\n",
    "### Highlights of analysis\n",
    "    - Fetch vector data from an online repository\n",
    "    - Visualize raster data\n",
    "    - Time series analysis\n",
    "    - etc\n",
    "### Dataset description\n",
    "\n",
    "#### AQI Data\n",
    "- The AQI data I'll be using in my analysis is [Air Quality Index (AQI)](https://www.airnow.gov/aqi/aqi-basics/) data from the [US Environmental Protection Agency](https://www.epa.gov) to visualize the impact on the AQI of the 2017 [Thomas Fire](https://en.wikipedia.org/wiki/Thomas_Fire) in Santa Barbara County. \n",
    "- More specifically, I'll be importing county-level AQI data for 2017 and 2018\n",
    "\n",
    "#### Landsat Collection 2 Level-2 data from Landsat 8 \n",
    "- The second is a simplified collection of bands (red, green, blue, near-infrared and shortwave infrared) from the Landsat Collection 2 Level-2 atmosperically corrected surface reflectance data, collected by the Landsat 8 satellite\n",
    "- This data that was accessed and pre-processed in Microsoft's Planetary Computer to remove data outside land and coarsen the spatial resolution ([Landsat Collection in MPC](https://planetarycomputer.microsoft.com/dataset/landsat-c2-l2)) by Professor Carmen Galaz-García ([@carmengg](https://github.com/carmengg) on GitHub)\n",
    "\n",
    "#### California Shapefile\n",
    "- The third dataset is A shapefile of fire perimeters in California during 2017. The [complete file can be accessed in the CA state geoportal.](https://gis.data.ca.gov/datasets/CALFIRE-Forestry::california-fire-perimeters-all-1/about)\n",
    "\n",
    "\n",
    "\n",
    "### References & data sources\n",
    "\n",
    "- AQI Data: https://aqs.epa.gov/aqsweb/airdata (Accessed October, 2023)\n",
    "- Landsat Data: https://planetarycomputer.microsoft.com/dataset/landsat-c2-l2, pre-processed on Microsoft's Planetary Computer by Dr. Carmen Galaz-García (Accessed November, 2023). This file will by in a data folder in my github repo for this project. \n",
    "- CA Shapefile: as mentioned above, the [complete file can be accessed in the CA state geoportal](https://gis.data.ca.gov/datasets/CALFIRE-Forestry::california-fire-perimeters-all-1/about). I'll be using a local copy of the shapefile in a hidden data folder in this repo. (Accessed November, 2023)"
   ]
  },
  {
   "cell_type": "code",
   "execution_count": 1,
   "id": "c7cd2a1a-5cf3-442b-8a72-617e93dc0deb",
   "metadata": {
    "tags": []
   },
   "outputs": [],
   "source": [
    "# before we begin our analysis, let's load in the relevant libraries, packages, and modules:\n",
    "\n",
    "# importing libraries with standard abbreviations\n",
    "# basic libraries\n",
    "import os # like here() in R\n",
    "import numpy as np\n",
    "import pandas as pd\n",
    "\n",
    "# for spatial/raster data etc. \n",
    "import xarray as xr\n",
    "import rioxarray as rioxr\n",
    "import geopandas as gpd\n",
    "\n",
    "# for plotting \n",
    "import matplotlib.pyplot as plt\n",
    "import matplotlib.patches as mpatches # for creating legends\n",
    "import matplotlib.lines as mlines # for making our customized marker in the legend\n",
    "from matplotlib.lines import Line2D  # also for this custom marker \n",
    "from matplotlib.markers import MarkerStyle # also for custom markers\n",
    "\n",
    "\n",
    "from shapely.geometry import Point \n",
    "from shapely.geometry import box # for making our bounding box/cropping (optional)\n",
    "\n",
    "from rasterio.features import rasterize # for rasterizing polygons\n",
    "\n",
    "pd.set_option('display.max_columns', None) # setting custom full output options for data exploration (optional) \n",
    "\n"
   ]
  },
  {
   "cell_type": "markdown",
   "id": "e74e82c6-d58e-4eb6-b3a1-354cc2f7dedf",
   "metadata": {},
   "source": [
    "# Importing Data"
   ]
  },
  {
   "cell_type": "markdown",
   "id": "78d7a933-df9a-4757-b0e0-fc5567d25a6e",
   "metadata": {},
   "source": [
    "### AQI Data for 2017-2018"
   ]
  },
  {
   "cell_type": "code",
   "execution_count": 2,
   "id": "1ef61e91-6f75-42b8-8770-b488782449ee",
   "metadata": {
    "tags": []
   },
   "outputs": [],
   "source": [
    "# reading in data using the download links in EPA's AQS data (cited in the About section)\n",
    "\n",
    "# reading in 2017 county-level AQI data  \n",
    "aqi_17 = pd.read_csv('https://aqs.epa.gov/aqsweb/airdata/daily_aqi_by_county_2017.zip')\n",
    "\n",
    "# reading in 2018 county-level AQI data\n",
    "aqi_18 = pd.read_csv('https://aqs.epa.gov/aqsweb/airdata/daily_aqi_by_county_2018.zip')\n"
   ]
  },
  {
   "cell_type": "markdown",
   "id": "ba930a12-2863-4b0e-bcf0-1802e43aed53",
   "metadata": {},
   "source": [
    "### (pre-processed) Landsat Data"
   ]
  },
  {
   "cell_type": "code",
   "execution_count": 4,
   "id": "22226472-1e56-440d-8d92-3abf1a400c62",
   "metadata": {},
   "outputs": [],
   "source": [
    "# setting file path for landsat data (NetCDF file),\n",
    "# using os() for multi-operating system compatibility\n",
    "landsat_fp = os.path.join(os.getcwd(), 'data', 'landsat8-2018-01-26-sb-simplified.nc')\n",
    "\n",
    "#  importing the landsat data it with rioxarray\n",
    "landsat = rioxr.open_rasterio(landsat_fp)"
   ]
  },
  {
   "cell_type": "markdown",
   "id": "2c75653e-43e0-4053-a209-ddde87022591",
   "metadata": {},
   "source": [
    "### California Fire Borders"
   ]
  },
  {
   "cell_type": "code",
   "execution_count": 6,
   "id": "cfdcb5a6-9b2f-46c6-a437-e1197c9c76ed",
   "metadata": {
    "tags": []
   },
   "outputs": [],
   "source": [
    "# setting file path for CA Fire Perimeters data, \n",
    "# using os() for multi-operating system compatibility\n",
    "ca_fp = os.path.join(os.getcwd(), 'data', 'California_Fire_Perimeters_2017', 'California_Fire_Perimeters_2017.shp')\n",
    "\n",
    "# importing the CA Fire Perimeters 2017 shapefile from our filepath using geopandas\n",
    "ca_fires = gpd.read_file(ca_fp)\n"
   ]
  },
  {
   "cell_type": "markdown",
   "id": "27a7bed0-940a-4b68-bf83-ac9d395e4acf",
   "metadata": {},
   "source": [
    "# Geographical context of data"
   ]
  },
  {
   "cell_type": "markdown",
   "id": "f6667270-84fa-4a63-9c1f-4f6e4f36f205",
   "metadata": {},
   "source": [
    "## AQI Data exploration"
   ]
  },
  {
   "cell_type": "code",
   "execution_count": 13,
   "id": "3cb43e2f-ec5f-40e4-8e60-125dfbc553d6",
   "metadata": {
    "tags": []
   },
   "outputs": [
    {
     "data": {
      "text/html": [
       "<div>\n",
       "<style scoped>\n",
       "    .dataframe tbody tr th:only-of-type {\n",
       "        vertical-align: middle;\n",
       "    }\n",
       "\n",
       "    .dataframe tbody tr th {\n",
       "        vertical-align: top;\n",
       "    }\n",
       "\n",
       "    .dataframe thead th {\n",
       "        text-align: right;\n",
       "    }\n",
       "</style>\n",
       "<table border=\"1\" class=\"dataframe\">\n",
       "  <thead>\n",
       "    <tr style=\"text-align: right;\">\n",
       "      <th></th>\n",
       "      <th>State Name</th>\n",
       "      <th>county Name</th>\n",
       "      <th>State Code</th>\n",
       "      <th>County Code</th>\n",
       "      <th>Date</th>\n",
       "      <th>AQI</th>\n",
       "      <th>Category</th>\n",
       "      <th>Defining Parameter</th>\n",
       "      <th>Defining Site</th>\n",
       "      <th>Number of Sites Reporting</th>\n",
       "    </tr>\n",
       "  </thead>\n",
       "  <tbody>\n",
       "    <tr>\n",
       "      <th>0</th>\n",
       "      <td>Alabama</td>\n",
       "      <td>Baldwin</td>\n",
       "      <td>1</td>\n",
       "      <td>3</td>\n",
       "      <td>2017-01-01</td>\n",
       "      <td>21</td>\n",
       "      <td>Good</td>\n",
       "      <td>PM2.5</td>\n",
       "      <td>01-003-0010</td>\n",
       "      <td>1</td>\n",
       "    </tr>\n",
       "    <tr>\n",
       "      <th>1</th>\n",
       "      <td>Alabama</td>\n",
       "      <td>Baldwin</td>\n",
       "      <td>1</td>\n",
       "      <td>3</td>\n",
       "      <td>2017-01-04</td>\n",
       "      <td>22</td>\n",
       "      <td>Good</td>\n",
       "      <td>PM2.5</td>\n",
       "      <td>01-003-0010</td>\n",
       "      <td>1</td>\n",
       "    </tr>\n",
       "    <tr>\n",
       "      <th>2</th>\n",
       "      <td>Alabama</td>\n",
       "      <td>Baldwin</td>\n",
       "      <td>1</td>\n",
       "      <td>3</td>\n",
       "      <td>2017-01-10</td>\n",
       "      <td>19</td>\n",
       "      <td>Good</td>\n",
       "      <td>PM2.5</td>\n",
       "      <td>01-003-0010</td>\n",
       "      <td>1</td>\n",
       "    </tr>\n",
       "  </tbody>\n",
       "</table>\n",
       "</div>"
      ],
      "text/plain": [
       "  State Name county Name  State Code  County Code        Date  AQI Category  \\\n",
       "0    Alabama     Baldwin           1            3  2017-01-01   21     Good   \n",
       "1    Alabama     Baldwin           1            3  2017-01-04   22     Good   \n",
       "2    Alabama     Baldwin           1            3  2017-01-10   19     Good   \n",
       "\n",
       "  Defining Parameter Defining Site  Number of Sites Reporting  \n",
       "0              PM2.5   01-003-0010                          1  \n",
       "1              PM2.5   01-003-0010                          1  \n",
       "2              PM2.5   01-003-0010                          1  "
      ]
     },
     "execution_count": 13,
     "metadata": {},
     "output_type": "execute_result"
    }
   ],
   "source": [
    "# currently, our 2017 and 2018 data are separate. Let's start by concatenating them:\n",
    "\n",
    "# concatenating our two years of data into one dataframe\n",
    "aqi = pd.concat([aqi_17, aqi_18])\n",
    "\n",
    "# viewing the first 3 rows of our concatenated dataset\n",
    "aqi.head(3)"
   ]
  },
  {
   "cell_type": "code",
   "execution_count": 8,
   "id": "ef4e6223-a55b-457f-892b-ef5a64e5ca72",
   "metadata": {
    "tags": []
   },
   "outputs": [
    {
     "name": "stdout",
     "output_type": "stream",
     "text": [
      "<class 'pandas.core.frame.DataFrame'>\n",
      "Int64Index: 654338 entries, 0 to 327536\n",
      "Data columns (total 10 columns):\n",
      " #   Column                     Non-Null Count   Dtype \n",
      "---  ------                     --------------   ----- \n",
      " 0   State Name                 654338 non-null  object\n",
      " 1   county Name                654338 non-null  object\n",
      " 2   State Code                 654338 non-null  int64 \n",
      " 3   County Code                654338 non-null  int64 \n",
      " 4   Date                       654338 non-null  object\n",
      " 5   AQI                        654338 non-null  int64 \n",
      " 6   Category                   654338 non-null  object\n",
      " 7   Defining Parameter         654338 non-null  object\n",
      " 8   Defining Site              654338 non-null  object\n",
      " 9   Number of Sites Reporting  654338 non-null  int64 \n",
      "dtypes: int64(4), object(6)\n",
      "memory usage: 54.9+ MB\n"
     ]
    }
   ],
   "source": [
    "aqi.info()"
   ]
  },
  {
   "cell_type": "markdown",
   "id": "27af279d-4680-44ac-859c-3e890df91298",
   "metadata": {},
   "source": [
    "Notes:\n",
    "- at this stage, the dataset includes AQI data at a county-level for more states than we're interested in for our analysis\n",
    "- the columns are mostly in Title Case and the datatype of information stored in the `Date` column is currently \"object\", not a datetime object\n",
    "\n",
    "## AQI Data Cleaning & Updates\n",
    "\n",
    "\n",
    "**Let's clean the column names and filter to Santa Barbara County, California.**"
   ]
  },
  {
   "cell_type": "code",
   "execution_count": 20,
   "id": "0068acc8-d6a8-4e1c-bc33-5e85c389188c",
   "metadata": {},
   "outputs": [
    {
     "name": "stdout",
     "output_type": "stream",
     "text": [
      "Index(['state_name', 'county_name', 'state_code', 'county_code', 'date', 'aqi',\n",
      "       'category', 'defining_parameter', 'defining_site',\n",
      "       'number_of_sites_reporting'],\n",
      "      dtype='object')\n"
     ]
    }
   ],
   "source": [
    "# cleaning up the column names to be lower_snake_case\n",
    "aqi.columns = aqi.columns.str.lower().str.replace(' ','_')\n",
    "\n",
    "# let's check to see if the column names were updated properly:\n",
    "print(aqi.columns)"
   ]
  },
  {
   "cell_type": "markdown",
   "id": "c4e0bc1d-52e5-4620-bbc3-932cc88b4459",
   "metadata": {},
   "source": [
    "Nice! Now, we can move on to filter our dataset down to Santa Barbara County"
   ]
  },
  {
   "cell_type": "code",
   "execution_count": 21,
   "id": "1685a9a0-cd78-49d5-8037-2497ae5063eb",
   "metadata": {
    "tags": []
   },
   "outputs": [
    {
     "name": "stdout",
     "output_type": "stream",
     "text": [
      "['Santa Barbara']\n"
     ]
    },
    {
     "data": {
      "text/html": [
       "<div>\n",
       "<style scoped>\n",
       "    .dataframe tbody tr th:only-of-type {\n",
       "        vertical-align: middle;\n",
       "    }\n",
       "\n",
       "    .dataframe tbody tr th {\n",
       "        vertical-align: top;\n",
       "    }\n",
       "\n",
       "    .dataframe thead th {\n",
       "        text-align: right;\n",
       "    }\n",
       "</style>\n",
       "<table border=\"1\" class=\"dataframe\">\n",
       "  <thead>\n",
       "    <tr style=\"text-align: right;\">\n",
       "      <th></th>\n",
       "      <th>state_name</th>\n",
       "      <th>county_name</th>\n",
       "      <th>state_code</th>\n",
       "      <th>county_code</th>\n",
       "      <th>date</th>\n",
       "      <th>aqi</th>\n",
       "      <th>category</th>\n",
       "      <th>defining_parameter</th>\n",
       "      <th>defining_site</th>\n",
       "      <th>number_of_sites_reporting</th>\n",
       "    </tr>\n",
       "  </thead>\n",
       "  <tbody>\n",
       "    <tr>\n",
       "      <th>28648</th>\n",
       "      <td>California</td>\n",
       "      <td>Santa Barbara</td>\n",
       "      <td>6</td>\n",
       "      <td>83</td>\n",
       "      <td>2017-01-01</td>\n",
       "      <td>39</td>\n",
       "      <td>Good</td>\n",
       "      <td>Ozone</td>\n",
       "      <td>06-083-4003</td>\n",
       "      <td>12</td>\n",
       "    </tr>\n",
       "    <tr>\n",
       "      <th>28649</th>\n",
       "      <td>California</td>\n",
       "      <td>Santa Barbara</td>\n",
       "      <td>6</td>\n",
       "      <td>83</td>\n",
       "      <td>2017-01-02</td>\n",
       "      <td>36</td>\n",
       "      <td>Good</td>\n",
       "      <td>Ozone</td>\n",
       "      <td>06-083-4003</td>\n",
       "      <td>11</td>\n",
       "    </tr>\n",
       "    <tr>\n",
       "      <th>28650</th>\n",
       "      <td>California</td>\n",
       "      <td>Santa Barbara</td>\n",
       "      <td>6</td>\n",
       "      <td>83</td>\n",
       "      <td>2017-01-03</td>\n",
       "      <td>71</td>\n",
       "      <td>Moderate</td>\n",
       "      <td>PM10</td>\n",
       "      <td>06-083-4003</td>\n",
       "      <td>12</td>\n",
       "    </tr>\n",
       "  </tbody>\n",
       "</table>\n",
       "</div>"
      ],
      "text/plain": [
       "       state_name    county_name  state_code  county_code        date  aqi  \\\n",
       "28648  California  Santa Barbara           6           83  2017-01-01   39   \n",
       "28649  California  Santa Barbara           6           83  2017-01-02   36   \n",
       "28650  California  Santa Barbara           6           83  2017-01-03   71   \n",
       "\n",
       "       category defining_parameter defining_site  number_of_sites_reporting  \n",
       "28648      Good              Ozone   06-083-4003                         12  \n",
       "28649      Good              Ozone   06-083-4003                         11  \n",
       "28650  Moderate               PM10   06-083-4003                         12  "
      ]
     },
     "execution_count": 21,
     "metadata": {},
     "output_type": "execute_result"
    }
   ],
   "source": [
    "# selecting rows where county_name is equal to \"Santa Barbara\"\n",
    "aqi_sb = aqi[aqi.county_name == \"Santa Barbara\"]\n",
    "\n",
    "# check to see if the updates were made\n",
    "\n",
    "# print all unique data points in the county_name column\n",
    "print(aqi_sb.county_name.unique())\n",
    "\n",
    "# show the first 3 rows of our updated df\n",
    "aqi_sb.head(3)"
   ]
  },
  {
   "cell_type": "markdown",
   "id": "62ee17b7-d6b7-4c85-84d3-6084319491e8",
   "metadata": {},
   "source": [
    "Great! Now that we have our data paired down to Santa Barbara County, we can get rid of the columns before `date`, as they're not providing useful information anymore."
   ]
  },
  {
   "cell_type": "code",
   "execution_count": 22,
   "id": "f037e4cb-cf8a-48e6-9316-202d7a764033",
   "metadata": {
    "tags": []
   },
   "outputs": [
    {
     "name": "stdout",
     "output_type": "stream",
     "text": [
      "Index(['date', 'aqi', 'category', 'defining_parameter', 'defining_site',\n",
      "       'number_of_sites_reporting'],\n",
      "      dtype='object')\n"
     ]
    }
   ],
   "source": [
    "# using .loc to select the columns after county_code\n",
    "aqi_sb = aqi_sb.loc[:,'date':'number_of_sites_reporting']\n",
    "\n",
    "# checking if our columns were dropped\n",
    "print(aqi_sb.columns)"
   ]
  },
  {
   "cell_type": "markdown",
   "id": "b79a5bea-bda6-4cbd-9ccf-a4dc5bf3e572",
   "metadata": {},
   "source": [
    "Perfect. Now, let's update the datatype of the `date` column to be a datetime object"
   ]
  },
  {
   "cell_type": "code",
   "execution_count": 23,
   "id": "bba6cf4a-35cd-4544-902d-8a1926a33d68",
   "metadata": {
    "tags": []
   },
   "outputs": [
    {
     "name": "stdout",
     "output_type": "stream",
     "text": [
      "date                         datetime64[ns]\n",
      "aqi                                   int64\n",
      "category                             object\n",
      "defining_parameter                   object\n",
      "defining_site                        object\n",
      "number_of_sites_reporting             int64\n",
      "dtype: object\n"
     ]
    }
   ],
   "source": [
    "# using to_datetime from pandas to update date column to be a datetime object\n",
    "aqi_sb.date = pd.to_datetime(aqi_sb.date)\n",
    "\n",
    "# checking to see if the data type was properly updated:\n",
    "print(aqi_sb.dtypes)"
   ]
  },
  {
   "cell_type": "markdown",
   "id": "4988b96e-1ab6-469f-a0f8-6084fa1d9373",
   "metadata": {},
   "source": [
    "Success! Let's see what our updated dataframe looks like now:"
   ]
  },
  {
   "cell_type": "code",
   "execution_count": 24,
   "id": "a20738a8-dcca-4333-9227-15f6cc903768",
   "metadata": {
    "tags": []
   },
   "outputs": [
    {
     "data": {
      "text/html": [
       "<div>\n",
       "<style scoped>\n",
       "    .dataframe tbody tr th:only-of-type {\n",
       "        vertical-align: middle;\n",
       "    }\n",
       "\n",
       "    .dataframe tbody tr th {\n",
       "        vertical-align: top;\n",
       "    }\n",
       "\n",
       "    .dataframe thead th {\n",
       "        text-align: right;\n",
       "    }\n",
       "</style>\n",
       "<table border=\"1\" class=\"dataframe\">\n",
       "  <thead>\n",
       "    <tr style=\"text-align: right;\">\n",
       "      <th></th>\n",
       "      <th>date</th>\n",
       "      <th>aqi</th>\n",
       "      <th>category</th>\n",
       "      <th>defining_parameter</th>\n",
       "      <th>defining_site</th>\n",
       "      <th>number_of_sites_reporting</th>\n",
       "    </tr>\n",
       "  </thead>\n",
       "  <tbody>\n",
       "    <tr>\n",
       "      <th>28648</th>\n",
       "      <td>2017-01-01</td>\n",
       "      <td>39</td>\n",
       "      <td>Good</td>\n",
       "      <td>Ozone</td>\n",
       "      <td>06-083-4003</td>\n",
       "      <td>12</td>\n",
       "    </tr>\n",
       "    <tr>\n",
       "      <th>28649</th>\n",
       "      <td>2017-01-02</td>\n",
       "      <td>36</td>\n",
       "      <td>Good</td>\n",
       "      <td>Ozone</td>\n",
       "      <td>06-083-4003</td>\n",
       "      <td>11</td>\n",
       "    </tr>\n",
       "    <tr>\n",
       "      <th>28650</th>\n",
       "      <td>2017-01-03</td>\n",
       "      <td>71</td>\n",
       "      <td>Moderate</td>\n",
       "      <td>PM10</td>\n",
       "      <td>06-083-4003</td>\n",
       "      <td>12</td>\n",
       "    </tr>\n",
       "  </tbody>\n",
       "</table>\n",
       "</div>"
      ],
      "text/plain": [
       "            date  aqi  category defining_parameter defining_site  \\\n",
       "28648 2017-01-01   39      Good              Ozone   06-083-4003   \n",
       "28649 2017-01-02   36      Good              Ozone   06-083-4003   \n",
       "28650 2017-01-03   71  Moderate               PM10   06-083-4003   \n",
       "\n",
       "       number_of_sites_reporting  \n",
       "28648                         12  \n",
       "28649                         11  \n",
       "28650                         12  "
      ]
     },
     "execution_count": 24,
     "metadata": {},
     "output_type": "execute_result"
    }
   ],
   "source": [
    "aqi_sb.head(3)"
   ]
  },
  {
   "cell_type": "markdown",
   "id": "e86ffe5b-dee0-4a47-bb1b-e39b9d880f99",
   "metadata": {},
   "source": [
    "The `date` column seems like it could be a more useful index than our current index. Setting `date` to be our new index will also help us plot the AQI over time in our analysis later on. "
   ]
  },
  {
   "cell_type": "code",
   "execution_count": 27,
   "id": "3cc77392-35cd-42b2-8f90-304ecf9b92c7",
   "metadata": {
    "tags": []
   },
   "outputs": [],
   "source": [
    "# updating index to the date column\n",
    "aqi_sb = aqi_sb.set_index('date')"
   ]
  },
  {
   "cell_type": "code",
   "execution_count": 29,
   "id": "55dab8dd-86b8-4496-8755-d6f0f13ec261",
   "metadata": {
    "tags": []
   },
   "outputs": [
    {
     "data": {
      "text/plain": [
       "DatetimeIndex(['2017-01-01', '2017-01-02', '2017-01-03', '2017-01-04',\n",
       "               '2017-01-05', '2017-01-06', '2017-01-07', '2017-01-08',\n",
       "               '2017-01-09', '2017-01-10',\n",
       "               ...\n",
       "               '2018-12-22', '2018-12-23', '2018-12-24', '2018-12-25',\n",
       "               '2018-12-26', '2018-12-27', '2018-12-28', '2018-12-29',\n",
       "               '2018-12-30', '2018-12-31'],\n",
       "              dtype='datetime64[ns]', name='date', length=730, freq=None)"
      ]
     },
     "execution_count": 29,
     "metadata": {},
     "output_type": "execute_result"
    }
   ],
   "source": [
    "# checking to see if the index was set properly:\n",
    "aqi_sb.index"
   ]
  },
  {
   "cell_type": "markdown",
   "id": "22339e9a-5c2f-42a8-985d-7443b2cae99b",
   "metadata": {},
   "source": [
    "Now that our data is cleaned and updated, we can move on to our analysis and visualization."
   ]
  },
  {
   "cell_type": "markdown",
   "id": "9e37db41-fcd8-45f0-ae32-acd946f04992",
   "metadata": {},
   "source": [
    "# AQI Data Analysis"
   ]
  },
  {
   "cell_type": "markdown",
   "id": "74939b4c-d1bf-45c3-be7b-661887d54b1a",
   "metadata": {},
   "source": [
    "We could just go straight to plotting our AQI data over time in Santa Barbara County, but it would be interesting to also show a 5-day rolling average plotted on top of it. \n",
    "\n",
    "In order to make our data visualization more legible, we can compute a [rolling average](https://pandas.pydata.org/pandas-docs/stable/reference/api/pandas.Series.rolling.html) of our AQI over time and add that as a column for our analysis.\n",
    "\n",
    "- `rolling()` is a method for `pandas.series` that provides rolling window calculations\n",
    "- the parameter `'5D'` indicates we want the window to be 5 days\n",
    "- This is a lazy method (think groupby), so we need to specify what we want to calculate over each window\n",
    "- we'll also use the aggregator function `mean()`\n",
    "    - this indicates that we want the mean over each window"
   ]
  },
  {
   "cell_type": "code",
   "execution_count": 30,
   "id": "aa9cb41a-8a26-4291-bb9d-c9cd9db7b8e4",
   "metadata": {
    "tags": []
   },
   "outputs": [],
   "source": [
    "# computing a 5-day rolling average of AQI \n",
    "# and inserting it as a new column at the end of the dataframe\n",
    "aqi_sb.insert(loc = 5,\n",
    "             column = \"five_day_average\",\n",
    "             value = aqi_sb.aqi.rolling('5D').mean())"
   ]
  },
  {
   "cell_type": "code",
   "execution_count": 31,
   "id": "1f81bacf-43d3-4a2a-ae4c-9fdc02b4493a",
   "metadata": {
    "tags": []
   },
   "outputs": [
    {
     "data": {
      "text/html": [
       "<div>\n",
       "<style scoped>\n",
       "    .dataframe tbody tr th:only-of-type {\n",
       "        vertical-align: middle;\n",
       "    }\n",
       "\n",
       "    .dataframe tbody tr th {\n",
       "        vertical-align: top;\n",
       "    }\n",
       "\n",
       "    .dataframe thead th {\n",
       "        text-align: right;\n",
       "    }\n",
       "</style>\n",
       "<table border=\"1\" class=\"dataframe\">\n",
       "  <thead>\n",
       "    <tr style=\"text-align: right;\">\n",
       "      <th></th>\n",
       "      <th>aqi</th>\n",
       "      <th>category</th>\n",
       "      <th>defining_parameter</th>\n",
       "      <th>defining_site</th>\n",
       "      <th>number_of_sites_reporting</th>\n",
       "      <th>five_day_average</th>\n",
       "    </tr>\n",
       "    <tr>\n",
       "      <th>date</th>\n",
       "      <th></th>\n",
       "      <th></th>\n",
       "      <th></th>\n",
       "      <th></th>\n",
       "      <th></th>\n",
       "      <th></th>\n",
       "    </tr>\n",
       "  </thead>\n",
       "  <tbody>\n",
       "    <tr>\n",
       "      <th>2017-01-01</th>\n",
       "      <td>39</td>\n",
       "      <td>Good</td>\n",
       "      <td>Ozone</td>\n",
       "      <td>06-083-4003</td>\n",
       "      <td>12</td>\n",
       "      <td>39.000000</td>\n",
       "    </tr>\n",
       "    <tr>\n",
       "      <th>2017-01-02</th>\n",
       "      <td>36</td>\n",
       "      <td>Good</td>\n",
       "      <td>Ozone</td>\n",
       "      <td>06-083-4003</td>\n",
       "      <td>11</td>\n",
       "      <td>37.500000</td>\n",
       "    </tr>\n",
       "    <tr>\n",
       "      <th>2017-01-03</th>\n",
       "      <td>71</td>\n",
       "      <td>Moderate</td>\n",
       "      <td>PM10</td>\n",
       "      <td>06-083-4003</td>\n",
       "      <td>12</td>\n",
       "      <td>48.666667</td>\n",
       "    </tr>\n",
       "  </tbody>\n",
       "</table>\n",
       "</div>"
      ],
      "text/plain": [
       "            aqi  category defining_parameter defining_site  \\\n",
       "date                                                         \n",
       "2017-01-01   39      Good              Ozone   06-083-4003   \n",
       "2017-01-02   36      Good              Ozone   06-083-4003   \n",
       "2017-01-03   71  Moderate               PM10   06-083-4003   \n",
       "\n",
       "            number_of_sites_reporting  five_day_average  \n",
       "date                                                     \n",
       "2017-01-01                         12         39.000000  \n",
       "2017-01-02                         11         37.500000  \n",
       "2017-01-03                         12         48.666667  "
      ]
     },
     "execution_count": 31,
     "metadata": {},
     "output_type": "execute_result"
    }
   ],
   "source": [
    "# checking the new column\n",
    "aqi_sb.head(3)"
   ]
  },
  {
   "cell_type": "markdown",
   "id": "6b87ae67-a61d-4c45-b18d-4817c286d3f4",
   "metadata": {},
   "source": [
    "Great! Now we can make a line plot showing both the daily AQI and the 5-day average (5-day average on top of the AQI), using `matplotlib`"
   ]
  },
  {
   "cell_type": "code",
   "execution_count": 35,
   "id": "a73bbc72-523d-49f2-90c4-138a09382a14",
   "metadata": {
    "tags": []
   },
   "outputs": [
    {
     "data": {
      "text/plain": [
       "<AxesSubplot:title={'center':'Daily AQI and 5-day average 2017-2018'}, xlabel='Date', ylabel='AQI (PM 2.5)'>"
      ]
     },
     "execution_count": 35,
     "metadata": {},
     "output_type": "execute_result"
    },
    {
     "data": {
      "image/png": "[encoded data removed]",
      "text/plain": [
       "<Figure size 640x480 with 1 Axes>"
      ]
     },
     "metadata": {},
     "output_type": "display_data"
    }
   ],
   "source": [
    "# plotting our daily aqi and five day rolling average aqi on one plot\n",
    "aqi_sb.plot(y = ['aqi', 'five_day_average'], # selecting two variables for my y-axis to auto-generate a legend\n",
    "            title = \"Daily AQI and 5-day average 2017-2018\", # updating title\n",
    "            xlabel = 'Date', # Updating x-axis label\n",
    "            ylabel = \"AQI (PM 2.5)\", # updating y-axis label\n",
    "            color = {'aqi': 'lime', # customizing colors\n",
    "                     'five_day_average':'blue'\n",
    "                    }\n",
    "           )\n"
   ]
  },
  {
   "cell_type": "markdown",
   "id": "d957caf3-0c42-45fe-b5b4-6c2461c352b2",
   "metadata": {},
   "source": [
    "Note: we can see a huge spike at December, 2017. This is when the Thomas Fire occurred.\n"
   ]
  },
  {
   "cell_type": "markdown",
   "id": "6806fef9-f21c-42db-9b04-23dd62eb5e8d",
   "metadata": {},
   "source": [
    "## Landsat raster data exploration"
   ]
  },
  {
   "cell_type": "code",
   "execution_count": null,
   "id": "98bbdbb8-a2a8-4919-998c-55c9ba97fb28",
   "metadata": {},
   "outputs": [],
   "source": []
  },
  {
   "cell_type": "markdown",
   "id": "e3361d2b-c220-48c1-8fc4-b3af7346fe4f",
   "metadata": {},
   "source": [
    "## CA fire border data exploration"
   ]
  },
  {
   "cell_type": "code",
   "execution_count": null,
   "id": "fff36978-bb1a-48d9-b298-1b8b6435df8b",
   "metadata": {},
   "outputs": [],
   "source": []
  },
  {
   "cell_type": "code",
   "execution_count": null,
   "id": "a9213e7f-8975-4aad-a072-517c3fb0c27b",
   "metadata": {},
   "outputs": [],
   "source": []
  },
  {
   "cell_type": "code",
   "execution_count": null,
   "id": "bc7dc2f9-a072-419e-8259-6647cff0227e",
   "metadata": {},
   "outputs": [],
   "source": [
    "# updating column names: making column names in the California Fire Borders lowercase \n",
    "ca_fires.columns = ca_fires.columns.str.lower()\n",
    "\n",
    "# removing extra/unwanted info: using squeeze() and .drop('band') to remove extra layers from our landsat dataset \n",
    "landsat = landsat.squeeze().drop('band')\n",
    "\n",
    "# reprojecting: ca_fire crs to landsat crs (epsg:32611)\n",
    "ca_fire_satcrs = ca_fires.to_crs(landsat.rio.crs)\n",
    "\n",
    "\n",
    "# clipping: clip CA fires to the landsat bounds (optional, helped with processing time)\n",
    "ca_fires = gpd.clip(ca_fire_satcrs, landsat.rio.bounds())\n",
    "\n",
    "\n",
    "# filtering: selecting Thomas Fire data by filtering fires data for fire_name == THOMAS\n",
    "thomas_fire_border = ca_fires.loc[ca_fires.fire_name == \"THOMAS\"]\n"
   ]
  },
  {
   "cell_type": "markdown",
   "id": "fa630f84-b8ae-4105-beca-59882d40732b",
   "metadata": {},
   "source": [
    "# Analysis"
   ]
  },
  {
   "cell_type": "code",
   "execution_count": null,
   "id": "14a2c846-07ee-42c4-adef-1ca6e8e37c42",
   "metadata": {},
   "outputs": [],
   "source": [
    "\n",
    "\n",
    "# the AQI spikes in December of 2017, when the Thomas Fire occurred "
   ]
  },
  {
   "cell_type": "markdown",
   "id": "d37ce95a-1eb5-4cea-897c-5d2afe859c6d",
   "metadata": {},
   "source": [
    "# Plotting Thomas Fire Scar"
   ]
  },
  {
   "cell_type": "code",
   "execution_count": null,
   "id": "9bdcae37-a9cb-49f1-9bda-a3c0ba0914bc",
   "metadata": {},
   "outputs": [],
   "source": [
    "\n",
    "# initializing plot using matplotlib\n",
    "fig, ax = plt.subplots(figsize=(9, 7)) # setting figure size for output\n",
    "\n",
    "# plotting false color image (without creating any new variables)\n",
    "landsat[['swir22', # short-wave\n",
    "         'nir08', # near-infrared\n",
    "         # and red variables\n",
    "         'red']].to_array().plot.imshow(robust=True, \n",
    "                    # using robust=True argument to deal with cloud RGB values squishing our plot\n",
    "                                                           ax=ax)\n",
    "\n",
    "\n",
    "# plotting Thomas fire perimeter using the selection of our ca fires subselection \n",
    "# filtered for fire_name == THOMAS\n",
    "thomas_fire_border.plot(color=\"none\", # empty fill color\n",
    "                   edgecolor=\"red\", # outline color of red for the Thomas Fire\n",
    "                   # because we're showing perimeter data\n",
    "                   ax=ax, # sharing same axes\n",
    "                   )\n",
    "\n",
    "# updating labels & legend using mpatches.Patch\n",
    "thomas_fire_border_patch = mpatches.Patch(color='red', # change color to red\n",
    "                          label='Thomas Fire') # update label\n",
    "\n",
    "ax.legend(handles = [thomas_fire_border_patch], \n",
    "          frameon=False, # removing legend frame\n",
    "          loc = \"upper right\", # setting location to upper right-hand side of the plot\n",
    "          labelcolor = \"white\") # changing text color so you can see it on the black background\n",
    "\n",
    "\n",
    "# displaying plot\n",
    "plt.show()"
   ]
  }
 ],
 "metadata": {
  "kernelspec": {
   "display_name": "Anaconda 3 (Base)",
   "language": "python",
   "name": "base"
  },
  "language_info": {
   "codemirror_mode": {
    "name": "ipython",
    "version": 3
   },
   "file_extension": ".py",
   "mimetype": "text/x-python",
   "name": "python",
   "nbconvert_exporter": "python",
   "pygments_lexer": "ipython3",
   "version": "3.9.13"
  }
 },
 "nbformat": 4,
 "nbformat_minor": 5
}
