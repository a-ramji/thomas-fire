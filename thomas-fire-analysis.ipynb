{
 "cells": [
  {
   "cell_type": "markdown",
   "id": "f98d111a-7c54-4a74-ac52-ae867744b411",
   "metadata": {},
   "source": [
    "# Thomas Fire Analysis\n",
    "#### Author: Anna Ramji ([@a-ramji](https://github.com/a-ramji), a-ramji@github.io)\n",
    "- This notebook is part of my Thomas Fire analysis [github repository](https://github.com/a-ramji/thomas-fire)\n",
    "(https://github.com/a-ramji/thomas-fire)\n"
   ]
  },
  {
   "cell_type": "markdown",
   "id": "bfceba0a-49cf-40b6-a9b9-20eb189feec5",
   "metadata": {},
   "source": [
    "# About\n",
    "\n",
    "### Purpose\n",
    "\n",
    "\n",
    "There are two primary goals of this data analysis and visualization. \n",
    "1. Use county-level AQI data to show the **air quality in Santa Barbara County from 2017-2018, highlighting the Thomas Fire**, which occurred in December, 2017.\n",
    "2. Use Landsat and a shapefile of fire perimeters in California to **create a false color image displaying the fire scar from the 2017 Thomas Fire**\n",
    "\n",
    "### Highlights of analysis\n",
    "    - Fetch vector data from an online repository\n",
    "    - Visualize raster data\n",
    "    - Time series analysis\n",
    "    - etc\n",
    "### Dataset description\n",
    "\n",
    "#### AQI Data\n",
    "- The AQI data I'll be using in my analysis is [Air Quality Index (AQI)](https://www.airnow.gov/aqi/aqi-basics/) data from the [US Environmental Protection Agency](https://www.epa.gov) to visualize the impact on the AQI of the 2017 [Thomas Fire](https://en.wikipedia.org/wiki/Thomas_Fire) in Santa Barbara County. \n",
    "- More specifically, I'll be importing county-level AQI data for 2017 and 2018\n",
    "\n",
    "#### Landsat Collection 2 Level-2 data from Landsat 8 \n",
    "- The second is a simplified collection of bands (red, green, blue, near-infrared and shortwave infrared) from the Landsat Collection 2 Level-2 atmosperically corrected surface reflectance data, collected by the Landsat 8 satellite\n",
    "- This data that was accessed and pre-processed in Microsoft's Planetary Computer to remove data outside land and coarsen the spatial resolution ([Landsat Collection in MPC](https://planetarycomputer.microsoft.com/dataset/landsat-c2-l2)) by Professor Carmen Galaz-García ([@carmengg](https://github.com/carmengg) on GitHub)\n",
    "\n",
    "#### California Shapefile\n",
    "- The third dataset is A shapefile of fire perimeters in California during 2017. The [complete file can be accessed in the CA state geoportal.](https://gis.data.ca.gov/datasets/CALFIRE-Forestry::california-fire-perimeters-all-1/about)\n",
    "\n",
    "\n",
    "\n",
    "### References to datasets\n",
    "\n",
    "- AQI Data: https://aqs.epa.gov/aqsweb/airdata (Accessed October, 2023)\n",
    "- Landsat Data: https://planetarycomputer.microsoft.com/dataset/landsat-c2-l2, pre-processed on Microsoft's Planetary Computer by Dr. Carmen Galaz-García (Accessed November, 2023). This file will by in a data folder in my github repo for this project. \n",
    "- CA Shapefile: as mentioned above, the [complete file can be accessed in the CA state geoportal](https://gis.data.ca.gov/datasets/CALFIRE-Forestry::california-fire-perimeters-all-1/about). I'll be using a local copy of the shapefile in a hidden data folder in this repo. (Accessed November, 2023)"
   ]
  },
  {
   "cell_type": "code",
   "execution_count": 1,
   "id": "c7cd2a1a-5cf3-442b-8a72-617e93dc0deb",
   "metadata": {
    "tags": []
   },
   "outputs": [],
   "source": [
    "# before we begin our analysis, let's load in the relevant libraries, packages, and modules:\n",
    "\n",
    "# importing libraries with standard abbreviations\n",
    "# basic libraries\n",
    "import os # like here() in R\n",
    "import numpy as np\n",
    "import pandas as pd\n",
    "\n",
    "# for spatial/raster data etc. \n",
    "import xarray as xr\n",
    "import rioxarray as rioxr\n",
    "import geopandas as gpd\n",
    "\n",
    "# for plotting \n",
    "import matplotlib.pyplot as plt\n",
    "import matplotlib.patches as mpatches # for creating legends\n",
    "import matplotlib.lines as mlines # for making our customized marker in the legend\n",
    "from matplotlib.lines import Line2D  # also for this custom marker \n",
    "from matplotlib.markers import MarkerStyle # also for custom markers\n",
    "\n",
    "\n",
    "from shapely.geometry import Point \n",
    "from shapely.geometry import box # for making our bounding box/cropping (optional)\n",
    "\n",
    "from rasterio.features import rasterize # for rasterizing polygons\n",
    "\n",
    "pd.set_option('display.max_columns', None) # setting custom full output options for data exploration (optional) \n",
    "\n"
   ]
  },
  {
   "cell_type": "markdown",
   "id": "e74e82c6-d58e-4eb6-b3a1-354cc2f7dedf",
   "metadata": {},
   "source": [
    "# Importing Data"
   ]
  },
  {
   "cell_type": "markdown",
   "id": "78d7a933-df9a-4757-b0e0-fc5567d25a6e",
   "metadata": {},
   "source": [
    "### AQI Data for 2017-2018"
   ]
  },
  {
   "cell_type": "code",
   "execution_count": 2,
   "id": "1ef61e91-6f75-42b8-8770-b488782449ee",
   "metadata": {
    "tags": []
   },
   "outputs": [],
   "source": [
    "\n",
    "# reading in 2017 data\n",
    "aqi_17 = pd.read_csv('https://aqs.epa.gov/aqsweb/airdata/daily_aqi_by_county_2017.zip')\n",
    "\n",
    "# reading in 2018 data\n",
    "aqi_18 = pd.read_csv('https://aqs.epa.gov/aqsweb/airdata/daily_aqi_by_county_2018.zip')\n"
   ]
  },
  {
   "cell_type": "markdown",
   "id": "ba930a12-2863-4b0e-bcf0-1802e43aed53",
   "metadata": {},
   "source": [
    "### (pre-processed) Landsat Data"
   ]
  },
  {
   "cell_type": "code",
   "execution_count": null,
   "id": "22226472-1e56-440d-8d92-3abf1a400c62",
   "metadata": {},
   "outputs": [],
   "source": []
  },
  {
   "cell_type": "markdown",
   "id": "27a7bed0-940a-4b68-bf83-ac9d395e4acf",
   "metadata": {},
   "source": [
    "# Geographical context of data"
   ]
  },
  {
   "cell_type": "markdown",
   "id": "f6667270-84fa-4a63-9c1f-4f6e4f36f205",
   "metadata": {},
   "source": [
    "# Data exploration"
   ]
  },
  {
   "cell_type": "markdown",
   "id": "fa630f84-b8ae-4105-beca-59882d40732b",
   "metadata": {},
   "source": [
    "# Analysis"
   ]
  },
  {
   "cell_type": "code",
   "execution_count": null,
   "id": "14a2c846-07ee-42c4-adef-1ca6e8e37c42",
   "metadata": {},
   "outputs": [],
   "source": []
  }
 ],
 "metadata": {
  "kernelspec": {
   "display_name": "Anaconda 3 (Base)",
   "language": "python",
   "name": "base"
  },
  "language_info": {
   "codemirror_mode": {
    "name": "ipython",
    "version": 3
   },
   "file_extension": ".py",
   "mimetype": "text/x-python",
   "name": "python",
   "nbconvert_exporter": "python",
   "pygments_lexer": "ipython3",
   "version": "3.9.13"
  }
 },
 "nbformat": 4,
 "nbformat_minor": 5
}
